{
 "cells": [
  {
   "cell_type": "markdown",
   "metadata": {},
   "source": [
    "## Class 2 Python for Data Science\n",
    "### Python Dictionary\n",
    "### List Comprehension\n",
    "### Reading CSV file and fix data errors"
   ]
  },
  {
   "cell_type": "markdown",
   "metadata": {},
   "source": [
    "One of Python's built−in datatypes is the dictionary, which defines one−to−one relationships between keys and values.\n",
    "\n",
    "\"Like lists dictionaries can easily be changed, can be shrunk and grown ad libitum at run time. They shrink and grow without the necessity of making copies. Dictionaries can be contained in lists and vice versa. But what's the difference between lists and dictionaries? Lists are ordered sets of objects, whereas dictionaries are <b>unordered sets.</b> But the main difference is that items in dictionaries are accessed via keys and not via their position.\"\n",
    "\n",
    "<br>\n",
    "A pair of braces creates an empty dictionary: {}. Placing a comma-separated list of key:value pairs within the braces adds initial key: value pairs to the dictionary; this is also the way dictionaries are written on output."
   ]
  },
  {
   "cell_type": "code",
   "execution_count": 76,
   "metadata": {},
   "outputs": [
    {
     "data": {
      "text/plain": [
       "{'fruit': 'orange, watermelon, grape', 'vegetable': 'onion, mushroom, lettuce'}"
      ]
     },
     "execution_count": 76,
     "metadata": {},
     "output_type": "execute_result"
    }
   ],
   "source": [
    "dict1 = {\"fruit\" : \"orange, watermelon, grape\", \"vegetable\":\"onion, mushroom, lettuce\"}\n",
    "dict1"
   ]
  },
  {
   "cell_type": "markdown",
   "metadata": {},
   "source": [
    "### Keys"
   ]
  },
  {
   "cell_type": "markdown",
   "metadata": {},
   "source": [
    "Get the keys from \"dict1\""
   ]
  },
  {
   "cell_type": "code",
   "execution_count": 77,
   "metadata": {},
   "outputs": [
    {
     "data": {
      "text/plain": [
       "dict_keys(['fruit', 'vegetable'])"
      ]
     },
     "execution_count": 77,
     "metadata": {},
     "output_type": "execute_result"
    }
   ],
   "source": [
    "dict1.keys()"
   ]
  },
  {
   "cell_type": "markdown",
   "metadata": {},
   "source": [
    "### Indexing With Keys?"
   ]
  },
  {
   "cell_type": "markdown",
   "metadata": {},
   "source": [
    "What happens if you try to run \"<b>dict1[0]</b>\"? Why?\n"
   ]
  },
  {
   "cell_type": "code",
   "execution_count": 78,
   "metadata": {},
   "outputs": [
    {
     "data": {
      "text/plain": [
       "'orange, watermelon, grape'"
      ]
     },
     "execution_count": 78,
     "metadata": {},
     "output_type": "execute_result"
    }
   ],
   "source": [
    "dict1[\"fruit\"]"
   ]
  },
  {
   "cell_type": "markdown",
   "metadata": {},
   "source": [
    "OR"
   ]
  },
  {
   "cell_type": "code",
   "execution_count": 212,
   "metadata": {},
   "outputs": [
    {
     "data": {
      "text/plain": [
       "'orange, watermelon, grape'"
      ]
     },
     "execution_count": 212,
     "metadata": {},
     "output_type": "execute_result"
    }
   ],
   "source": [
    "dict1.get(\"fruit\")"
   ]
  },
  {
   "cell_type": "markdown",
   "metadata": {},
   "source": [
    "### ii.Values"
   ]
  },
  {
   "cell_type": "markdown",
   "metadata": {},
   "source": [
    "Get the values from \"dict1\""
   ]
  },
  {
   "cell_type": "code",
   "execution_count": 79,
   "metadata": {},
   "outputs": [
    {
     "data": {
      "text/plain": [
       "dict_values(['orange, watermelon, grape', 'onion, mushroom, lettuce'])"
      ]
     },
     "execution_count": 79,
     "metadata": {},
     "output_type": "execute_result"
    }
   ],
   "source": [
    "dict1.values()"
   ]
  },
  {
   "cell_type": "markdown",
   "metadata": {},
   "source": [
    "### Indexing With Values?\n",
    "A little more complicated"
   ]
  },
  {
   "cell_type": "code",
   "execution_count": 214,
   "metadata": {},
   "outputs": [
    {
     "name": "stdout",
     "output_type": "stream",
     "text": [
      "fruit\n"
     ]
    }
   ],
   "source": [
    "V = 'orange, watermelon, grape'\n",
    "\n",
    "for key, value in dict1.items():\n",
    "    if value == V:\n",
    "        K = key\n",
    "print(K)"
   ]
  },
  {
   "cell_type": "markdown",
   "metadata": {},
   "source": [
    "### iii. Length of Dictionary\n",
    "\n",
    "Returns the number of stored entries, i.e. the number of (key,value) pairs."
   ]
  },
  {
   "cell_type": "code",
   "execution_count": 215,
   "metadata": {},
   "outputs": [
    {
     "data": {
      "text/plain": [
       "2"
      ]
     },
     "execution_count": 215,
     "metadata": {},
     "output_type": "execute_result"
    }
   ],
   "source": [
    "len(dict1)"
   ]
  },
  {
   "cell_type": "markdown",
   "metadata": {},
   "source": [
    "### iv. Remove key and value"
   ]
  },
  {
   "cell_type": "code",
   "execution_count": 216,
   "metadata": {},
   "outputs": [
    {
     "data": {
      "text/plain": [
       "{'fruit': 'orange, watermelon, grape'}"
      ]
     },
     "execution_count": 216,
     "metadata": {},
     "output_type": "execute_result"
    }
   ],
   "source": [
    "del dict1[\"vegetable\"]\n",
    "dict1"
   ]
  },
  {
   "cell_type": "markdown",
   "metadata": {},
   "source": [
    "### v. Add new value"
   ]
  },
  {
   "cell_type": "code",
   "execution_count": 217,
   "metadata": {},
   "outputs": [
    {
     "data": {
      "text/plain": [
       "{'fruit': 'orange, watermelon, grape', 'new': 0}"
      ]
     },
     "execution_count": 217,
     "metadata": {},
     "output_type": "execute_result"
    }
   ],
   "source": [
    "dict1[\"new\"] = 0\n",
    "dict1"
   ]
  },
  {
   "cell_type": "markdown",
   "metadata": {},
   "source": [
    "### vi. Concatenating Dictionaries\n",
    "<i>*Note: Keys must be unique</i>"
   ]
  },
  {
   "cell_type": "code",
   "execution_count": 2,
   "metadata": {},
   "outputs": [
    {
     "data": {
      "text/plain": [
       "{'fruit': [5, 6, 7], 'vegetable': 'onion, mushroom, lettuce'}"
      ]
     },
     "execution_count": 2,
     "metadata": {},
     "output_type": "execute_result"
    }
   ],
   "source": [
    "dict1 = {\"fruit\" : \"orange, watermelon, grape\", \"vegetable\":\"onion, mushroom, lettuce\"}\n",
    "dict2 = {\"fruit\": [5,6,7]}\n",
    "dict1.update(dict2)\n",
    "dict1"
   ]
  },
  {
   "cell_type": "markdown",
   "metadata": {},
   "source": [
    "### <font color = \"coral\">Exercise 1: Create a new dictionary</font>\n",
    "<font color = \"coral\">Your keys should be \"Country\",\"State\",\"City\",\"ZipCode\"\n",
    "\n",
    "Fill in the values according to the keys."
   ]
  },
  {
   "cell_type": "code",
   "execution_count": 8,
   "metadata": {},
   "outputs": [
    {
     "data": {
      "text/plain": [
       "{'Country': 'United States of America',\n",
       " 'State': 'California',\n",
       " 'City': 'Sunnyvale',\n",
       " 'ZipCode': 94087}"
      ]
     },
     "execution_count": 8,
     "metadata": {},
     "output_type": "execute_result"
    }
   ],
   "source": [
    "#Your code here\n",
    "Address = {\"Country\":\"United States of America\",\n",
    "          \"State\": \"California\",\n",
    "           \"City\": \"Sunnyvale\",\n",
    "            \"ZipCode\": 94087}\n",
    "Address"
   ]
  },
  {
   "cell_type": "markdown",
   "metadata": {},
   "source": [
    "## Multi-dimensional Array"
   ]
  },
  {
   "cell_type": "code",
   "execution_count": 220,
   "metadata": {},
   "outputs": [],
   "source": [
    "a = [[0,  1, 2, 3, 4, 5],\n",
    "     [10,11,12,13,14,15],\n",
    "     [20,21,22,23,24,25],\n",
    "     [30,31,32,33,34,35],\n",
    "     [40,41,42,43,44,45],\n",
    "     [50,51,52,53,54,55]]"
   ]
  },
  {
   "cell_type": "code",
   "execution_count": 221,
   "metadata": {},
   "outputs": [
    {
     "data": {
      "text/plain": [
       "[0, 1, 2, 3, 4, 5]"
      ]
     },
     "execution_count": 221,
     "metadata": {},
     "output_type": "execute_result"
    }
   ],
   "source": [
    "a[0]"
   ]
  },
  {
   "cell_type": "code",
   "execution_count": 222,
   "metadata": {},
   "outputs": [
    {
     "data": {
      "text/plain": [
       "[[40, 41, 42, 43, 44, 45], [50, 51, 52, 53, 54, 55]]"
      ]
     },
     "execution_count": 222,
     "metadata": {},
     "output_type": "execute_result"
    }
   ],
   "source": [
    "a[4:6]"
   ]
  },
  {
   "cell_type": "code",
   "execution_count": 223,
   "metadata": {},
   "outputs": [
    {
     "data": {
      "text/plain": [
       "55"
      ]
     },
     "execution_count": 223,
     "metadata": {},
     "output_type": "execute_result"
    }
   ],
   "source": [
    "a[5][5]"
   ]
  },
  {
   "cell_type": "code",
   "execution_count": null,
   "metadata": {},
   "outputs": [],
   "source": []
  },
  {
   "cell_type": "markdown",
   "metadata": {},
   "source": [
    "### List Comprehensions"
   ]
  },
  {
   "cell_type": "code",
   "execution_count": 224,
   "metadata": {},
   "outputs": [
    {
     "data": {
      "text/plain": [
       "[0, 1, 4, 9, 16, 25, 36, 49, 64, 81, 100, 121, 144, 169, 196]"
      ]
     },
     "execution_count": 224,
     "metadata": {},
     "output_type": "execute_result"
    }
   ],
   "source": [
    "[x**2 for x in range(15)]"
   ]
  },
  {
   "cell_type": "markdown",
   "metadata": {},
   "source": [
    " SAME AS BELOW"
   ]
  },
  {
   "cell_type": "code",
   "execution_count": 225,
   "metadata": {},
   "outputs": [
    {
     "data": {
      "text/plain": [
       "[0, 1, 4, 9, 16, 25, 36, 49, 64, 81, 100, 121, 144, 169, 196]"
      ]
     },
     "execution_count": 225,
     "metadata": {},
     "output_type": "execute_result"
    }
   ],
   "source": [
    "original = list(range(15))\n",
    "\n",
    "squares = []\n",
    "\n",
    "for x in original:\n",
    "    squares.append(x**2)\n",
    "    \n",
    "squares"
   ]
  },
  {
   "cell_type": "markdown",
   "metadata": {},
   "source": [
    "#### What is happening in this loop?"
   ]
  },
  {
   "cell_type": "code",
   "execution_count": 226,
   "metadata": {},
   "outputs": [
    {
     "data": {
      "text/plain": [
       "[0, 1, 16, 81, 256, 625, 1296, 2401, 4096, 6561]"
      ]
     },
     "execution_count": 226,
     "metadata": {},
     "output_type": "execute_result"
    }
   ],
   "source": [
    "new = []\n",
    "for x in squares:\n",
    "    if x < 100:\n",
    "        new.append(x**2)\n",
    "new"
   ]
  },
  {
   "cell_type": "code",
   "execution_count": 227,
   "metadata": {},
   "outputs": [
    {
     "data": {
      "text/plain": [
       "[0, 1, 16, 81, 256, 625, 1296, 2401, 4096, 6561]"
      ]
     },
     "execution_count": 227,
     "metadata": {},
     "output_type": "execute_result"
    }
   ],
   "source": [
    "new = [i**2 for i in squares if i < 100]\n",
    "new "
   ]
  },
  {
   "cell_type": "markdown",
   "metadata": {},
   "source": [
    "### <font color = \"coral\">Exercise 2:\n",
    "<font color = \"coral\">\n",
    "Turn this for loop into a nested for list comprehension (Should only be one line)."
   ]
  },
  {
   "cell_type": "code",
   "execution_count": 228,
   "metadata": {},
   "outputs": [
    {
     "name": "stdout",
     "output_type": "stream",
     "text": [
      "[0, 5, 10, 15, 20, 25, 30, 35, 40, 45, 50, 55, 60, 65, 70, 75, 80, 85, 90, 95, 100, 105, 110, 115, 120, 125, 130, 135, 140, 145, 150, 155, 160, 165, 170, 175, 180, 185, 190, 195, 200, 205, 210, 215, 220, 225, 230, 235, 240, 245, 250, 255, 260, 265, 270, 275, 280, 285, 290, 295, 300, 305, 310, 315, 320, 325, 330, 335, 340, 345, 350, 355, 360, 365, 370, 375, 380, 385, 390, 395, 400, 405, 410, 415, 420, 425, 430, 435, 440, 445, 450, 455, 460, 465, 470, 475, 480, 485, 490, 495, 500, 505, 510, 515, 520, 525, 530, 535, 540, 545, 550, 555, 560, 565, 570, 575, 580, 585, 590, 595, 600, 605, 610, 615, 620, 625, 630, 635, 640, 645, 650, 655, 660, 665, 670, 675, 680, 685, 690, 695, 700, 705, 710, 715, 720, 725, 730, 735, 740, 745, 750, 755, 760, 765, 770, 775, 780, 785, 790, 795, 800, 805, 810, 815, 820, 825, 830, 835, 840, 845, 850, 855, 860, 865, 870, 875, 880, 885, 890, 895, 900, 905, 910, 915, 920, 925, 930, 935, 940, 945, 950, 955, 960, 965, 970, 975, 980, 985, 990, 995]\n"
     ]
    }
   ],
   "source": [
    "mystery = []\n",
    "for i in range(1000):\n",
    "    if i%5 == 0:\n",
    "        mystery.append(i)\n",
    "print(mystery)"
   ]
  },
  {
   "cell_type": "code",
   "execution_count": 6,
   "metadata": {},
   "outputs": [
    {
     "name": "stdout",
     "output_type": "stream",
     "text": [
      "[0, 5, 10, 15, 20, 25, 30, 35, 40, 45, 50, 55, 60, 65, 70, 75, 80, 85, 90, 95, 100, 105, 110, 115, 120, 125, 130, 135, 140, 145, 150, 155, 160, 165, 170, 175, 180, 185, 190, 195, 200, 205, 210, 215, 220, 225, 230, 235, 240, 245, 250, 255, 260, 265, 270, 275, 280, 285, 290, 295, 300, 305, 310, 315, 320, 325, 330, 335, 340, 345, 350, 355, 360, 365, 370, 375, 380, 385, 390, 395, 400, 405, 410, 415, 420, 425, 430, 435, 440, 445, 450, 455, 460, 465, 470, 475, 480, 485, 490, 495, 500, 505, 510, 515, 520, 525, 530, 535, 540, 545, 550, 555, 560, 565, 570, 575, 580, 585, 590, 595, 600, 605, 610, 615, 620, 625, 630, 635, 640, 645, 650, 655, 660, 665, 670, 675, 680, 685, 690, 695, 700, 705, 710, 715, 720, 725, 730, 735, 740, 745, 750, 755, 760, 765, 770, 775, 780, 785, 790, 795, 800, 805, 810, 815, 820, 825, 830, 835, 840, 845, 850, 855, 860, 865, 870, 875, 880, 885, 890, 895, 900, 905, 910, 915, 920, 925, 930, 935, 940, 945, 950, 955, 960, 965, 970, 975, 980, 985, 990, 995]\n"
     ]
    }
   ],
   "source": [
    "#Your code here\n",
    "mystery=[i for i in range(1000) if i%5==0]\n",
    "print(mystery)"
   ]
  },
  {
   "cell_type": "markdown",
   "metadata": {},
   "source": [
    " <h1> <b><font color = coral>&#9998; <font color = coral>EXERCISE 3:</h1></font>"
   ]
  },
  {
   "cell_type": "markdown",
   "metadata": {},
   "source": [
    "<font color = \"coral\">\n",
    "Not that you have all this knowledge on different operators, data types, and loops create a loop that removes all the unwanted information from our list.\n",
    "\n",
    "<b>1) Create a loop where you get rid of all the odd numbers.\n",
    "<br><br>\n",
    "2) Put all the numbers in order from smallest to largest.<br><br>\n",
    "3) Once you only have a list of ordered even numbers convert all these integers into strings.<br><br>\n",
    "4) Now print your number strings as a single string with comma separation.</b>\n",
    "\n"
   ]
  },
  {
   "cell_type": "code",
   "execution_count": 40,
   "metadata": {},
   "outputs": [
    {
     "name": "stdout",
     "output_type": "stream",
     "text": [
      "[4, 6, 2, 6, 8, 4, 6, 8, 454, 876, 54, 76, 34, 234234, 23432, 4, 1212, 76, 5432, 123212245346342, 2]\n",
      "[2, 2, 4, 4, 4, 6, 6, 6, 8, 8, 34, 54, 76, 76, 454, 876, 1212, 5432, 23432, 234234, 123212245346342]\n",
      "['2', '2', '4', '4', '4', '6', '6', '6', '8', '8', '34', '54', '76', '76', '454', '876', '1212', '5432', '23432', '234234', '123212245346342']\n",
      "2,2,4,4,4,6,6,6,8,8,34,54,76,76,454,876,1212,5432,23432,234234,123212245346342,\n"
     ]
    }
   ],
   "source": [
    "lst = [4,6,3,2,6,8,9,7,23,4,465,7,6,8,454,5,876,567,54,76,34,55,\n",
    "       33,7653,234234,7857,23432,4353,4,345,4667,23235,1212,221,\n",
    "       335,2323,21,45,76,5432,54645645,123212245346342,67,34563,2]\n",
    "#Your code here\n",
    "#1) Create a loop where you get rid of all the odd numbers. \n",
    "\n",
    "even_lst=[]\n",
    "even_lst = [lst[i] for i in range(len(lst)) if lst[i]%2==0]   \n",
    "print(even_lst)\n",
    "    \n",
    "#2) Put all the numbers in order from smallest to largest.\n",
    "\n",
    "even_lst.sort()\n",
    "print(even_lst)\n",
    "\n",
    "#3) Once you only have a list of ordered even numbers convert all these integers into strings.\n",
    "\n",
    "even_lst_str = [ str(i) for i in even_lst]\n",
    "print ( even_lst_str)\n",
    "\n",
    "#4)Now print your number strings as a single string with comma separation.\n",
    "single_str=\"\"\n",
    "for i in even_lst_str:    \n",
    "    single_str=single_str+i+','  \n",
    "print (single_str)\n",
    "\n",
    "\n"
   ]
  },
  {
   "cell_type": "markdown",
   "metadata": {},
   "source": [
    " <h1> <b><font color = coral>&#9998; <font color = coral>EXERCISE 4:</h1></font>"
   ]
  },
  {
   "cell_type": "markdown",
   "metadata": {},
   "source": [
    "<font color = \"coral\">If we list all the natural numbers below 10 that are multiples of 3 or 5, we get 3, 5, 6 and 9. The sum of these multiples is 23.\n",
    "\n",
    "Find the sum of all the multiples of 3 or 5 below 10,000."
   ]
  },
  {
   "cell_type": "code",
   "execution_count": 50,
   "metadata": {},
   "outputs": [
    {
     "name": "stdout",
     "output_type": "stream",
     "text": [
      "23331668\n"
     ]
    }
   ],
   "source": [
    "#Your answer here\n",
    "##first try to write a loop for 10 number, if the loop works for 10 it will work for 10,000\n",
    "sum=0\n",
    "for i in range(1,10000):\n",
    "    if i%3==0 or i%5==0:\n",
    "        sum=sum+i\n",
    "        \n",
    "print(sum)\n",
    "    "
   ]
  },
  {
   "cell_type": "markdown",
   "metadata": {},
   "source": [
    " <h1> <b><font color = coral>&#9998; <font color = coral>EXERCISE 5:</h1></font>"
   ]
  },
  {
   "cell_type": "markdown",
   "metadata": {},
   "source": [
    "<font color = \"coral\">\n",
    "Calculate all square numbers (1,4,9,16,...) below 1,000. What's their sum?"
   ]
  },
  {
   "cell_type": "code",
   "execution_count": 60,
   "metadata": {},
   "outputs": [
    {
     "name": "stdout",
     "output_type": "stream",
     "text": [
      "10416\n"
     ]
    }
   ],
   "source": [
    "#Your answer here\n",
    "number=1\n",
    "sum=0\n",
    "while True:\n",
    "    square=number**2\n",
    "    if square >1000:\n",
    "        break\n",
    "    sum=sum+square\n",
    "    number=number+1\n",
    "print(sum)"
   ]
  },
  {
   "cell_type": "markdown",
   "metadata": {},
   "source": [
    " <h1> <b><font color = coral>&#9998; <font color = coral>EXERCISE 6:</h1></font>"
   ]
  },
  {
   "cell_type": "markdown",
   "metadata": {},
   "source": [
    "<font color = \"coral\">\n",
    "Write a function to calculate the mean (average) of \"lst\". Do not use the built-in \"mean\" functions that Python offers."
   ]
  },
  {
   "cell_type": "code",
   "execution_count": 61,
   "metadata": {},
   "outputs": [
    {
     "name": "stdout",
     "output_type": "stream",
     "text": [
      "121.77\n"
     ]
    }
   ],
   "source": [
    "lst = [4,6,3,2,6,8,9,7,23,4,465,7,6,8,454,5,876,567,54,76,34,55]\n",
    "           \n",
    "#Your answer here\n",
    "# len function will give you the count of elements\n",
    "\n",
    "sum=0\n",
    "for i in lst:\n",
    "    sum=sum+i\n",
    "    \n",
    "average=sum/len(lst)\n",
    "print(round(average,2))\n",
    "  \n"
   ]
  },
  {
   "cell_type": "markdown",
   "metadata": {},
   "source": [
    " <h1> <b><font color = coral>&#9998; <font color = coral>EXERCISE 7:</h1></font>"
   ]
  },
  {
   "cell_type": "markdown",
   "metadata": {},
   "source": [
    "<font color = \"coral\">\n",
    "Write a function to calculate the median of \"lst\". Do not use the built-in \"median\" functions that Python offers."
   ]
  },
  {
   "cell_type": "code",
   "execution_count": 70,
   "metadata": {},
   "outputs": [
    {
     "name": "stdout",
     "output_type": "stream",
     "text": [
      "45\n",
      "67\n"
     ]
    }
   ],
   "source": [
    "lst = [4,6,3,2,6,8,9,7,23,4,465,7,6,8,454,5,876,567,54,76,34,55,\n",
    "       33,7653,234234,7857,23432,4353,4,345,4667,23235,1212,221,\n",
    "       335,2323,21,45,76,5432,54645645,123212245346342,67,34563,2]\n",
    "\n",
    "#Your answer here\n",
    "#first sort the list then find the number of elements using len, find if it odd or even then calc the median\n",
    "lst.sort()\n",
    "ln=len(lst)\n",
    "if ln%2==0:\n",
    "    median = (lst[ln//2] + lst[ln//2 - 1])/2\n",
    "    print(median)\n",
    "else:\n",
    "    median = lst[ln//2]\n",
    "    print (median)\n",
    "    "
   ]
  },
  {
   "cell_type": "markdown",
   "metadata": {},
   "source": [
    " <h1> <b><font color = coral>&#9998; <font color = coral>EXERCISE 8:</h1></font>"
   ]
  },
  {
   "cell_type": "markdown",
   "metadata": {},
   "source": [
    "<font color = \"coral\">Write a function to calculate the mode of \"lst\". Do not use the built-in \"mode\" functions that Python offers."
   ]
  },
  {
   "cell_type": "code",
   "execution_count": 5,
   "metadata": {},
   "outputs": [
    {
     "name": "stdout",
     "output_type": "stream",
     "text": [
      "['4', '6']\n"
     ]
    }
   ],
   "source": [
    "lst = [4,6,3,2,6,8,9,7,23,4,465,7,6,8,454,5,876,567,54,76,34,55,\n",
    "       33,7653,234234,7857,23432,4353,4,345,4667,23235,1212,221,\n",
    "       335,2323,21,45,76,5432,54645645,123212245346342,67,34563,2]\n",
    "\n",
    "#Your answer here\n",
    "dict_count = {}\n",
    "#dict_test = {1: 0,2: 4,3: 2}\n",
    "\n",
    "#maximum = max(dict_test, dict_test.values())\n",
    "#print(maximum)\n",
    "\n",
    "for i in lst:\n",
    "    countofi = lst.count(i)\n",
    "    dict_count[i]=countofi\n",
    "    \n",
    "#print(dict_count)\n",
    "\n",
    "maximum=max([i for i in dict_count.values()])\n",
    "modes = []\n",
    "for k,val in dict_count.items(): \n",
    "    if val == maximum:\n",
    "        modes.append(str(k))\n",
    "        \n",
    "print(modes)"
   ]
  },
  {
   "cell_type": "markdown",
   "metadata": {},
   "source": [
    "# Reading CSV file -- bayarea_home_prices data"
   ]
  },
  {
   "cell_type": "code",
   "execution_count": 236,
   "metadata": {},
   "outputs": [
    {
     "data": {
      "text/plain": [
       "'\\nDataset description\\n1) HomeID = Home ID number\\n2) HomeAge = Age of home in years\\n3) HomeSqft = Square footage of home\\n4) LotSize = LotSize\\n5) BedRooms = Num bedrooms as per county data\\n6) HighSchoolAPI = API for nearest high school\\n7) ProxFwy = Distance in miles to Freeway\\n8) CarGarage = Number of cars in garage; 0 = no garage\\n9) ZipCode = Postal zip code for the home\\n10)HomePriceK = Home price in $K (Target)\\n-------------------------------------------\\n9 X Variables; 1 Y variable (Target)\\nData Points = 100\\n\\nData errors:\\n1) Few ZipCode have starting digit to be 8, it should be 9\\n2) Few HighSchoolApi scores have two digits, the ending digit 0 is missing\\n3) Few CarGarage numbers were entered as letter \"l\", it should be integer 1 \\n'"
      ]
     },
     "execution_count": 236,
     "metadata": {},
     "output_type": "execute_result"
    }
   ],
   "source": [
    "\"\"\"\n",
    "Dataset description\n",
    "1) HomeID = Home ID number\n",
    "2) HomeAge = Age of home in years\n",
    "3) HomeSqft = Square footage of home\n",
    "4) LotSize = LotSize\n",
    "5) BedRooms = Num bedrooms as per county data\n",
    "6) HighSchoolAPI = API for nearest high school\n",
    "7) ProxFwy = Distance in miles to Freeway\n",
    "8) CarGarage = Number of cars in garage; 0 = no garage\n",
    "9) ZipCode = Postal zip code for the home\n",
    "10)HomePriceK = Home price in $K (Target)\n",
    "-------------------------------------------\n",
    "9 X Variables; 1 Y variable (Target)\n",
    "Data Points = 100\n",
    "\n",
    "Data errors:\n",
    "1) Few ZipCode have starting digit to be 8, it should be 9\n",
    "2) Few HighSchoolApi scores have two digits, the ending digit 0 is missing\n",
    "3) Few CarGarage numbers were entered as letter \"l\", it should be integer 1 \n",
    "\"\"\""
   ]
  },
  {
   "cell_type": "code",
   "execution_count": 7,
   "metadata": {},
   "outputs": [],
   "source": [
    "## Reading csv files\n",
    "def read_file(filename):\n",
    "    file_open = open(filename,\"r\")\n",
    "    data_array = []\n",
    "    for line in iter(file_open):\n",
    "        if \"HomeID\" in line:\n",
    "            continue\n",
    "        line_no_newline = line.rstrip() # delete white space characters\n",
    "        line_split = line_no_newline.split(\",\")\n",
    "        data_array.append(line_split) ##if you want only first 5 columns of all rows data_array.append(line_split[0:5])\n",
    "    return data_array"
   ]
  },
  {
   "cell_type": "code",
   "execution_count": 9,
   "metadata": {},
   "outputs": [
    {
     "name": "stdout",
     "output_type": "stream",
     "text": [
      "[['1', '24', '1757', '6056', '2', '899', '3', '3', '94085', '894'], ['2', '10', '1563', '6085', '2', '959', '4', '3', '94085', '861'], ['3', '14', '1344', '6089', '2', '865', '4', '3', '94085', '831'], ['4', '14', '1215', '6129', '3', '959', '4', '2', '94085', '809'], ['5', '24', '1866', '6141', '3', '877', '4', '1', '94085', '890'], ['6', '18', '1589', '6148', '2', '920', '3', '0', '84085', '867']]\n"
     ]
    }
   ],
   "source": [
    "housing_data = read_file(\"bayarea_home_prices.csv.xls\")\n",
    "print(housing_data[0:6])"
   ]
  },
  {
   "cell_type": "code",
   "execution_count": 11,
   "metadata": {},
   "outputs": [
    {
     "name": "stdout",
     "output_type": "stream",
     "text": [
      "100\n"
     ]
    }
   ],
   "source": [
    "len_housing_data = len(housing_data)\n",
    "print(len_housing_data)"
   ]
  },
  {
   "cell_type": "code",
   "execution_count": 12,
   "metadata": {},
   "outputs": [],
   "source": [
    "list_HomeAge = []\n",
    "# for all rows, extract only column 1\n",
    "for k in range(0,len_housing_data):\n",
    "    list_HomeAge.append(housing_data[k][1])    "
   ]
  },
  {
   "cell_type": "code",
   "execution_count": 14,
   "metadata": {},
   "outputs": [
    {
     "name": "stdout",
     "output_type": "stream",
     "text": [
      "['24', '10', '14', '14', '24', '18', '13', '19', '17', '24', '12', '22', '15', '25', '10', '20', '23', '16', '10', '13', '17', '10', '15', '10', '21', '12', '13', '10', '17', '24', '10', '18', '11', '19', '12', '14', '13', '22', '22', '15', '23', '21', '17', '11', '15', '11', '21', '22', '12', '19', '19', '25', '23', '12', '10', '11', '11', '19', '22', '19', '13', '19', '25', '12', '14', '25', '24', '12', '21', '16', '19', '24', '25', '17', '14', '12', '17', '25', '17', '11', '18', '19', '24', '25', '22', '19', '18', '22', '21', '14', '16', '18', '25', '21', '13', '11', '10', '21', '19', '11']\n"
     ]
    }
   ],
   "source": [
    "print(list_HomeAge) \n",
    "# they are still strings, cannot do numerical calculations with strings "
   ]
  },
  {
   "cell_type": "code",
   "execution_count": 16,
   "metadata": {},
   "outputs": [],
   "source": [
    "# How to convert zipcodes from text to numbers\n",
    "for k in range(0,len_housing_data):\n",
    "    housing_data[k][8] = int(housing_data[k][8])  # convert to integer data type and over-write"
   ]
  },
  {
   "cell_type": "code",
   "execution_count": 23,
   "metadata": {},
   "outputs": [
    {
     "name": "stdout",
     "output_type": "stream",
     "text": [
      "[['1', '24', '1757', '6056', '2', '899', '3', '3', 94085, '894'], ['2', '10', '1563', '6085', '2', '959', '4', '3', 94085, '861'], ['3', '14', '1344', '6089', '2', '865', '4', '3', 94085, '831'], ['4', '14', '1215', '6129', '3', '959', '4', '2', 94085, '809'], ['5', '24', '1866', '6141', '3', '877', '4', '1', 94085, '890']]\n"
     ]
    }
   ],
   "source": [
    "print(housing_data[0:5]) # Zipcode is without quotes and not strings; they are now integers"
   ]
  },
  {
   "cell_type": "code",
   "execution_count": 26,
   "metadata": {},
   "outputs": [],
   "source": [
    "## Reading csv files, how to fix errors in data, replace 84085 with 94085\n",
    "def read_file_housing(filename):\n",
    "    file_open = open(filename,\"r\")\n",
    "    data_array = []\n",
    "    for line in iter(file_open):\n",
    "        if \"HomeID\" in line:\n",
    "            continue\n",
    "        line_no_newline = line.rstrip()\n",
    "        line2 = line_no_newline.replace(\"84085\",\"94085\")\n",
    "        line_split = line2.split(\",\")\n",
    "        data_array.append(line_split)\n",
    "    return data_array"
   ]
  },
  {
   "cell_type": "code",
   "execution_count": 27,
   "metadata": {},
   "outputs": [
    {
     "name": "stdout",
     "output_type": "stream",
     "text": [
      "[['1', '24', '1757', '6056', '2', '899', '3', '3', '94085', '894'], ['2', '10', '1563', '6085', '2', '959', '4', '3', '94085', '861'], ['3', '14', '1344', '6089', '2', '865', '4', '3', '94085', '831'], ['4', '14', '1215', '6129', '3', '959', '4', '2', '94085', '809'], ['5', '24', '1866', '6141', '3', '877', '4', '1', '94085', '890'], ['6', '18', '1589', '6148', '2', '920', '3', '0', '94085', '867']]\n"
     ]
    }
   ],
   "source": [
    "housing_data2 = read_file_housing(\"bayarea_home_prices.csv.xls\")\n",
    "print(housing_data2[0:6])"
   ]
  },
  {
   "cell_type": "code",
   "execution_count": 28,
   "metadata": {},
   "outputs": [
    {
     "name": "stdout",
     "output_type": "stream",
     "text": [
      "100\n"
     ]
    }
   ],
   "source": [
    "len_housing_data2 = len(housing_data2)\n",
    "print(len_housing_data2)"
   ]
  },
  {
   "cell_type": "code",
   "execution_count": 29,
   "metadata": {},
   "outputs": [],
   "source": [
    "list_ZipCode2 = []\n",
    "# for all rows, extract all zipcodes\n",
    "for k in range(0,len_housing_data2):\n",
    "    list_ZipCode2.append(int(housing_data2[k][8]))  "
   ]
  },
  {
   "cell_type": "code",
   "execution_count": 30,
   "metadata": {},
   "outputs": [
    {
     "name": "stdout",
     "output_type": "stream",
     "text": [
      "[94085, 94085, 94085, 94085, 94085, 94085, 94085, 94085, 94085, 94085, 94085, 94085, 94085, 94085, 94085, 95051, 94085, 94085, 95051, 94085, 94085, 94085, 94085, 95051, 94085, 94085, 94085, 95051, 94085, 95051, 95051, 95051, 95051, 95051, 95051, 95051, 85051, 95051, 95051, 95051, 94087, 94087, 95051, 95051, 95051, 94087, 95051, 94087, 94087, 95051, 95051, 95051, 85051, 94087, 95051, 94087, 94087, 94087, 95051, 94087, 94087, 94087, 94087, 94087, 94087, 95014, 94087, 94087, 94087, 94087, 95014, 94087, 95014, 95014, 84087, 84087, 95014, 94087, 94087, 94087, 95014, 95014, 95014, 95014, 85014, 95014, 95014, 95014, 85014, 95014, 95014, 95014, 95014, 95014, 95014, 95014, 95014, 95014, 95014, 95014]\n"
     ]
    }
   ],
   "source": [
    "print(list_ZipCode2) # Converted to numbers"
   ]
  },
  {
   "cell_type": "markdown",
   "metadata": {},
   "source": [
    "<h1> <b><font color = coral>&#9998; <font color = coral>EXERCISE 9:</h1></font>"
   ]
  },
  {
   "cell_type": "code",
   "execution_count": 99,
   "metadata": {},
   "outputs": [
    {
     "name": "stdout",
     "output_type": "stream",
     "text": [
      "{94085: 25, 95051: 25, 94087: 25, 95014: 25}\n"
     ]
    }
   ],
   "source": [
    "\"\"\"\n",
    "The above example shows correcting 84085 -> 94085\n",
    "Perform other zip code corrections: \n",
    "84087 -> 94087,\n",
    "85014 -> 95014,\n",
    "85051 -> 95051\n",
    "\"\"\"\n",
    "#Your answer here\n",
    "\n",
    "def read_house(filename):\n",
    "    file_open = open(filename,\"r\")\n",
    "    data_array1 = []\n",
    "    for line in iter(file_open):\n",
    "        if \"HomeID\" in line:\n",
    "            continue \n",
    "        line_no_newline = line.rstrip()\n",
    "        if \"84085\" in line_no_newline:\n",
    "            line2=line_no_newline.replace (\"84085\",\"94085\")\n",
    "            line_split = line2.split(\",\")\n",
    "            data_array1.append(line_split)\n",
    "        elif \"84087\" in line_no_newline:\n",
    "            line2=line_no_newline.replace (\"84087\",\"94087\")\n",
    "            line_split = line2.split(\",\")\n",
    "            data_array1.append(line_split)\n",
    "        elif \"85014\" in line_no_newline:\n",
    "            line2=line_no_newline.replace (\"85014\",\"95014\")\n",
    "            line_split = line2.split(\",\")\n",
    "            data_array1.append(line_split)\n",
    "        elif \"85051\" in line_no_newline:\n",
    "            line2=line_no_newline.replace (\"85051\",\"95051\")\n",
    "            line_split = line2.split(\",\")\n",
    "            data_array1.append(line_split)\n",
    "        else:\n",
    "            line_split=line_no_newline.split(\",\")\n",
    "            data_array1.append(line_split)\n",
    "            \n",
    "    return data_array1\n",
    "\n",
    "house_data = read_house(\"bayarea_home_prices.csv.xls\")\n",
    "#print(house_data[74])\n",
    "\n",
    "\"\"\"\n",
    "Create a table for zip code distribution after corrections:\n",
    "After:Zipcode,House_Count\n",
    "94085,25\n",
    "94087,25\n",
    "95051,25\n",
    "95014,25\n",
    "\"\"\"\n",
    "#Your answer here\n",
    "\n",
    "list_Zip = []\n",
    "dict_zip_cnt={}\n",
    "# for all rows, extract all zipcodes\n",
    "for k in range(0,len(house_data)):\n",
    "    list_Zip.append(int(house_data[k][8]))\n",
    "\n",
    "for i in list_Zip:\n",
    "    count_i=list_Zip.count(i)\n",
    "    dict_zip_cnt[i] = count_i\n",
    "print(dict_zip_cnt)"
   ]
  },
  {
   "cell_type": "markdown",
   "metadata": {},
   "source": [
    "<h1> <b><font color = coral>&#9998; <font color = coral>EXERCISE 10:</h1></font>"
   ]
  },
  {
   "cell_type": "code",
   "execution_count": 74,
   "metadata": {},
   "outputs": [
    {
     "name": "stdout",
     "output_type": "stream",
     "text": [
      "907.0,25,94085\n",
      "1823.68,25,95051\n",
      "2722.92,25,94087\n",
      "3617.72,25,95014\n"
     ]
    }
   ],
   "source": [
    "\"\"\"\n",
    "Modify function read_file_housing to multiply incorrect SchoolAPI by 10.\n",
    "Assume API value to be incorrect if it is a two digit number.\n",
    "Calculate average School API by zipcode. Print the following:\n",
    "Average_SchoolAPI,Cnt_of_homes,ZipCode\n",
    "xyz,mn,abc\n",
    "\"\"\"\n",
    "#Your answer here\n",
    "\n",
    "#HOUSE_DATA is from EXERCISE 9\n",
    "#dict_zip_cnt is also from EXERCISE 9\n",
    "\n",
    "API_SUM=0\n",
    "len_house_data=len(house_data)\n",
    "for k in range(0,len_house_data):\n",
    "    house_data[k][5] = int(house_data[k][5])\n",
    "    if len(str(abs(house_data[k][5]))) < 3:\n",
    "        house_data[k][5] = int(house_data[k][5])*int(10)\n",
    "#print(house_data[9])       \n",
    "for key,val in dict_zip_cnt.items():\n",
    "    for i in range(0,len_house_data):\n",
    "        if int(house_data[i][8])== int(key):\n",
    "            API_SUM=API_SUM+house_data[i][5]\n",
    "        avg_api=API_SUM/val\n",
    "    print(str(avg_api)+','+str(val)+','+str(key))\n",
    "    \n"
   ]
  },
  {
   "cell_type": "markdown",
   "metadata": {},
   "source": [
    "<h1> <b><font color = coral>&#9998; <font color = coral>EXERCISE 11:</h1></font>"
   ]
  },
  {
   "cell_type": "code",
   "execution_count": 80,
   "metadata": {},
   "outputs": [
    {
     "name": "stdout",
     "output_type": "stream",
     "text": [
      "['13', '15', '1541', '6514', '2', '872', '2', 1, '94085', '933']\n"
     ]
    }
   ],
   "source": [
    "\"\"\"\n",
    "Modify function read_file_housing to replace CarGarage value of 'l' with integer 1\n",
    "Calculate and print the following:\n",
    "Car_Garage,Cnt_of_homes\n",
    "0,m\n",
    "1,n\n",
    "2,o\n",
    "3,p\n",
    "\"\"\"\n",
    "data_array2= []\n",
    "def read_file_housing1(filename):\n",
    "    file_open = open(filename,\"r\")\n",
    "    data_array = []\n",
    "    for line in iter(file_open):\n",
    "        if \"HomeID\" in line:\n",
    "            continue\n",
    "        line_no_newline1 = line.rstrip()\n",
    "        line_split1 = line_no_newline1.split(\",\")\n",
    "        line_split1=[1 if i=='l' else i for i in line_split1]\n",
    "        data_array2.append(line_split1)\n",
    "    return data_array2\n",
    "\n",
    "house_data_2=read_file_housing1(\"bayarea_home_prices.csv.xls\")\n",
    "print(house_data_2[12])"
   ]
  },
  {
   "cell_type": "markdown",
   "metadata": {},
   "source": [
    "<h1> <b><font color = coral>&#9998; <font color = coral>EXERCISE 12:</h1></font>"
   ]
  },
  {
   "cell_type": "code",
   "execution_count": 83,
   "metadata": {},
   "outputs": [
    {
     "name": "stdout",
     "output_type": "stream",
     "text": [
      "94085,885.96,25\n",
      "95051,1909.16,25\n",
      "94087,3060.64,25\n",
      "95014,4323.96,25\n"
     ]
    }
   ],
   "source": [
    "\"\"\"\n",
    "Find the average price of a home in this four zip codes area.\n",
    "Zipcode,Avg_Price,Cnt_of_homes\n",
    "\"\"\"\n",
    "\n",
    "#HOUSE_DATA is from EXERCISE 9\n",
    "#dict_zip_cnt is also from EXERCISE 9\n",
    "\n",
    "PRICE_SUM=0\n",
    "len_house_data=len(house_data)\n",
    "      \n",
    "for key,val in dict_zip_cnt.items():\n",
    "    for i in range(0,len_house_data):\n",
    "        if int(house_data[i][8])== int(key):\n",
    "            PRICE_SUM=PRICE_SUM+int(house_data[i][9])\n",
    "        avg_price=PRICE_SUM/val\n",
    "    print(str(key)+','+str(avg_price)+','+str(val))\n",
    "    "
   ]
  },
  {
   "cell_type": "markdown",
   "metadata": {},
   "source": [
    "<h1> <b><font color = coral>&#9998; <font color = coral>EXERCISE 13:</h1></font>"
   ]
  },
  {
   "cell_type": "code",
   "execution_count": 110,
   "metadata": {},
   "outputs": [
    {
     "name": "stdout",
     "output_type": "stream",
     "text": [
      "The average house price in Sunnyvale based on 50 homes is $1018.72(thousands.)\n"
     ]
    }
   ],
   "source": [
    "\"\"\"\n",
    "Find the average price of a home in Sunnyvale (94087 and 94085).\n",
    "Print the output as follows:\n",
    "The average house price in Sunnyvale based on xx homes is $yyy (thousands).\n",
    "\"\"\"\n",
    "PRICE_SUM=0\n",
    "count=0\n",
    "len_house_data=len(house_data)\n",
    "    \n",
    "for i in range(0,len_house_data):\n",
    "    if house_data[i][8]in ['94087','94085']:\n",
    "        PRICE_SUM=PRICE_SUM+int(house_data[i][9])\n",
    "        count=count+1\n",
    "    avg_price=PRICE_SUM/count\n",
    "print(\"The average house price in Sunnyvale based on \"+str(count)+' homes is $'+str(avg_price)+'(thousands.)')\n"
   ]
  }
 ],
 "metadata": {
  "kernelspec": {
   "display_name": "Python 3",
   "language": "python",
   "name": "python3"
  },
  "language_info": {
   "codemirror_mode": {
    "name": "ipython",
    "version": 3
   },
   "file_extension": ".py",
   "mimetype": "text/x-python",
   "name": "python",
   "nbconvert_exporter": "python",
   "pygments_lexer": "ipython3",
   "version": "3.6.5"
  }
 },
 "nbformat": 4,
 "nbformat_minor": 2
}
